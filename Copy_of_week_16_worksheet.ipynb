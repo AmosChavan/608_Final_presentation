{
  "nbformat": 4,
  "nbformat_minor": 0,
  "metadata": {
    "colab": {
      "provenance": []
    },
    "kernelspec": {
      "name": "python3",
      "display_name": "Python 3"
    },
    "language_info": {
      "name": "python"
    }
  },
  "cells": [
    {
      "cell_type": "code",
      "execution_count": 1,
      "metadata": {
        "id": "EHfHcTQiPesN"
      },
      "outputs": [],
      "source": [
        "import pandas as pd\n",
        "import numpy as np\n",
        "import matplotlib.pyplot as plt\n",
        "import patsy as pt\n",
        "from sklearn.linear_model import LogisticRegression\n",
        "from sklearn.model_selection import train_test_split, cross_val_score\n",
        "from sklearn.metrics import confusion_matrix, accuracy_score\n",
        "from sklearn.ensemble import RandomForestClassifier\n",
        "from sklearn.preprocessing import StandardScaler"
      ]
    },
    {
      "cell_type": "code",
      "source": [
        "df = pd.read_csv('https://raw.githubusercontent.com/roualdes/data/refs/heads/master/penguins.csv')\n",
        "df.head()"
      ],
      "metadata": {
        "colab": {
          "base_uri": "https://localhost:8080/",
          "height": 206
        },
        "id": "qvYrnaZWRqSP",
        "outputId": "27500f80-be23-4df0-c763-dd317d0eb239"
      },
      "execution_count": 2,
      "outputs": [
        {
          "output_type": "execute_result",
          "data": {
            "text/plain": [
              "  species     island  bill_length_mm  bill_depth_mm  flipper_length_mm  \\\n",
              "0  Adelie  Torgersen            39.1           18.7              181.0   \n",
              "1  Adelie  Torgersen            39.5           17.4              186.0   \n",
              "2  Adelie  Torgersen            40.3           18.0              195.0   \n",
              "3  Adelie  Torgersen             NaN            NaN                NaN   \n",
              "4  Adelie  Torgersen            36.7           19.3              193.0   \n",
              "\n",
              "   body_mass_g     sex  year  \n",
              "0       3750.0    male  2007  \n",
              "1       3800.0  female  2007  \n",
              "2       3250.0  female  2007  \n",
              "3          NaN     NaN  2007  \n",
              "4       3450.0  female  2007  "
            ],
            "text/html": [
              "\n",
              "  <div id=\"df-a60f46a1-09f6-4446-936e-277999617ee2\" class=\"colab-df-container\">\n",
              "    <div>\n",
              "<style scoped>\n",
              "    .dataframe tbody tr th:only-of-type {\n",
              "        vertical-align: middle;\n",
              "    }\n",
              "\n",
              "    .dataframe tbody tr th {\n",
              "        vertical-align: top;\n",
              "    }\n",
              "\n",
              "    .dataframe thead th {\n",
              "        text-align: right;\n",
              "    }\n",
              "</style>\n",
              "<table border=\"1\" class=\"dataframe\">\n",
              "  <thead>\n",
              "    <tr style=\"text-align: right;\">\n",
              "      <th></th>\n",
              "      <th>species</th>\n",
              "      <th>island</th>\n",
              "      <th>bill_length_mm</th>\n",
              "      <th>bill_depth_mm</th>\n",
              "      <th>flipper_length_mm</th>\n",
              "      <th>body_mass_g</th>\n",
              "      <th>sex</th>\n",
              "      <th>year</th>\n",
              "    </tr>\n",
              "  </thead>\n",
              "  <tbody>\n",
              "    <tr>\n",
              "      <th>0</th>\n",
              "      <td>Adelie</td>\n",
              "      <td>Torgersen</td>\n",
              "      <td>39.1</td>\n",
              "      <td>18.7</td>\n",
              "      <td>181.0</td>\n",
              "      <td>3750.0</td>\n",
              "      <td>male</td>\n",
              "      <td>2007</td>\n",
              "    </tr>\n",
              "    <tr>\n",
              "      <th>1</th>\n",
              "      <td>Adelie</td>\n",
              "      <td>Torgersen</td>\n",
              "      <td>39.5</td>\n",
              "      <td>17.4</td>\n",
              "      <td>186.0</td>\n",
              "      <td>3800.0</td>\n",
              "      <td>female</td>\n",
              "      <td>2007</td>\n",
              "    </tr>\n",
              "    <tr>\n",
              "      <th>2</th>\n",
              "      <td>Adelie</td>\n",
              "      <td>Torgersen</td>\n",
              "      <td>40.3</td>\n",
              "      <td>18.0</td>\n",
              "      <td>195.0</td>\n",
              "      <td>3250.0</td>\n",
              "      <td>female</td>\n",
              "      <td>2007</td>\n",
              "    </tr>\n",
              "    <tr>\n",
              "      <th>3</th>\n",
              "      <td>Adelie</td>\n",
              "      <td>Torgersen</td>\n",
              "      <td>NaN</td>\n",
              "      <td>NaN</td>\n",
              "      <td>NaN</td>\n",
              "      <td>NaN</td>\n",
              "      <td>NaN</td>\n",
              "      <td>2007</td>\n",
              "    </tr>\n",
              "    <tr>\n",
              "      <th>4</th>\n",
              "      <td>Adelie</td>\n",
              "      <td>Torgersen</td>\n",
              "      <td>36.7</td>\n",
              "      <td>19.3</td>\n",
              "      <td>193.0</td>\n",
              "      <td>3450.0</td>\n",
              "      <td>female</td>\n",
              "      <td>2007</td>\n",
              "    </tr>\n",
              "  </tbody>\n",
              "</table>\n",
              "</div>\n",
              "    <div class=\"colab-df-buttons\">\n",
              "\n",
              "  <div class=\"colab-df-container\">\n",
              "    <button class=\"colab-df-convert\" onclick=\"convertToInteractive('df-a60f46a1-09f6-4446-936e-277999617ee2')\"\n",
              "            title=\"Convert this dataframe to an interactive table.\"\n",
              "            style=\"display:none;\">\n",
              "\n",
              "  <svg xmlns=\"http://www.w3.org/2000/svg\" height=\"24px\" viewBox=\"0 -960 960 960\">\n",
              "    <path d=\"M120-120v-720h720v720H120Zm60-500h600v-160H180v160Zm220 220h160v-160H400v160Zm0 220h160v-160H400v160ZM180-400h160v-160H180v160Zm440 0h160v-160H620v160ZM180-180h160v-160H180v160Zm440 0h160v-160H620v160Z\"/>\n",
              "  </svg>\n",
              "    </button>\n",
              "\n",
              "  <style>\n",
              "    .colab-df-container {\n",
              "      display:flex;\n",
              "      gap: 12px;\n",
              "    }\n",
              "\n",
              "    .colab-df-convert {\n",
              "      background-color: #E8F0FE;\n",
              "      border: none;\n",
              "      border-radius: 50%;\n",
              "      cursor: pointer;\n",
              "      display: none;\n",
              "      fill: #1967D2;\n",
              "      height: 32px;\n",
              "      padding: 0 0 0 0;\n",
              "      width: 32px;\n",
              "    }\n",
              "\n",
              "    .colab-df-convert:hover {\n",
              "      background-color: #E2EBFA;\n",
              "      box-shadow: 0px 1px 2px rgba(60, 64, 67, 0.3), 0px 1px 3px 1px rgba(60, 64, 67, 0.15);\n",
              "      fill: #174EA6;\n",
              "    }\n",
              "\n",
              "    .colab-df-buttons div {\n",
              "      margin-bottom: 4px;\n",
              "    }\n",
              "\n",
              "    [theme=dark] .colab-df-convert {\n",
              "      background-color: #3B4455;\n",
              "      fill: #D2E3FC;\n",
              "    }\n",
              "\n",
              "    [theme=dark] .colab-df-convert:hover {\n",
              "      background-color: #434B5C;\n",
              "      box-shadow: 0px 1px 3px 1px rgba(0, 0, 0, 0.15);\n",
              "      filter: drop-shadow(0px 1px 2px rgba(0, 0, 0, 0.3));\n",
              "      fill: #FFFFFF;\n",
              "    }\n",
              "  </style>\n",
              "\n",
              "    <script>\n",
              "      const buttonEl =\n",
              "        document.querySelector('#df-a60f46a1-09f6-4446-936e-277999617ee2 button.colab-df-convert');\n",
              "      buttonEl.style.display =\n",
              "        google.colab.kernel.accessAllowed ? 'block' : 'none';\n",
              "\n",
              "      async function convertToInteractive(key) {\n",
              "        const element = document.querySelector('#df-a60f46a1-09f6-4446-936e-277999617ee2');\n",
              "        const dataTable =\n",
              "          await google.colab.kernel.invokeFunction('convertToInteractive',\n",
              "                                                    [key], {});\n",
              "        if (!dataTable) return;\n",
              "\n",
              "        const docLinkHtml = 'Like what you see? Visit the ' +\n",
              "          '<a target=\"_blank\" href=https://colab.research.google.com/notebooks/data_table.ipynb>data table notebook</a>'\n",
              "          + ' to learn more about interactive tables.';\n",
              "        element.innerHTML = '';\n",
              "        dataTable['output_type'] = 'display_data';\n",
              "        await google.colab.output.renderOutput(dataTable, element);\n",
              "        const docLink = document.createElement('div');\n",
              "        docLink.innerHTML = docLinkHtml;\n",
              "        element.appendChild(docLink);\n",
              "      }\n",
              "    </script>\n",
              "  </div>\n",
              "\n",
              "\n",
              "<div id=\"df-abd0d793-69b8-41c9-9bef-6a6573c83f68\">\n",
              "  <button class=\"colab-df-quickchart\" onclick=\"quickchart('df-abd0d793-69b8-41c9-9bef-6a6573c83f68')\"\n",
              "            title=\"Suggest charts\"\n",
              "            style=\"display:none;\">\n",
              "\n",
              "<svg xmlns=\"http://www.w3.org/2000/svg\" height=\"24px\"viewBox=\"0 0 24 24\"\n",
              "     width=\"24px\">\n",
              "    <g>\n",
              "        <path d=\"M19 3H5c-1.1 0-2 .9-2 2v14c0 1.1.9 2 2 2h14c1.1 0 2-.9 2-2V5c0-1.1-.9-2-2-2zM9 17H7v-7h2v7zm4 0h-2V7h2v10zm4 0h-2v-4h2v4z\"/>\n",
              "    </g>\n",
              "</svg>\n",
              "  </button>\n",
              "\n",
              "<style>\n",
              "  .colab-df-quickchart {\n",
              "      --bg-color: #E8F0FE;\n",
              "      --fill-color: #1967D2;\n",
              "      --hover-bg-color: #E2EBFA;\n",
              "      --hover-fill-color: #174EA6;\n",
              "      --disabled-fill-color: #AAA;\n",
              "      --disabled-bg-color: #DDD;\n",
              "  }\n",
              "\n",
              "  [theme=dark] .colab-df-quickchart {\n",
              "      --bg-color: #3B4455;\n",
              "      --fill-color: #D2E3FC;\n",
              "      --hover-bg-color: #434B5C;\n",
              "      --hover-fill-color: #FFFFFF;\n",
              "      --disabled-bg-color: #3B4455;\n",
              "      --disabled-fill-color: #666;\n",
              "  }\n",
              "\n",
              "  .colab-df-quickchart {\n",
              "    background-color: var(--bg-color);\n",
              "    border: none;\n",
              "    border-radius: 50%;\n",
              "    cursor: pointer;\n",
              "    display: none;\n",
              "    fill: var(--fill-color);\n",
              "    height: 32px;\n",
              "    padding: 0;\n",
              "    width: 32px;\n",
              "  }\n",
              "\n",
              "  .colab-df-quickchart:hover {\n",
              "    background-color: var(--hover-bg-color);\n",
              "    box-shadow: 0 1px 2px rgba(60, 64, 67, 0.3), 0 1px 3px 1px rgba(60, 64, 67, 0.15);\n",
              "    fill: var(--button-hover-fill-color);\n",
              "  }\n",
              "\n",
              "  .colab-df-quickchart-complete:disabled,\n",
              "  .colab-df-quickchart-complete:disabled:hover {\n",
              "    background-color: var(--disabled-bg-color);\n",
              "    fill: var(--disabled-fill-color);\n",
              "    box-shadow: none;\n",
              "  }\n",
              "\n",
              "  .colab-df-spinner {\n",
              "    border: 2px solid var(--fill-color);\n",
              "    border-color: transparent;\n",
              "    border-bottom-color: var(--fill-color);\n",
              "    animation:\n",
              "      spin 1s steps(1) infinite;\n",
              "  }\n",
              "\n",
              "  @keyframes spin {\n",
              "    0% {\n",
              "      border-color: transparent;\n",
              "      border-bottom-color: var(--fill-color);\n",
              "      border-left-color: var(--fill-color);\n",
              "    }\n",
              "    20% {\n",
              "      border-color: transparent;\n",
              "      border-left-color: var(--fill-color);\n",
              "      border-top-color: var(--fill-color);\n",
              "    }\n",
              "    30% {\n",
              "      border-color: transparent;\n",
              "      border-left-color: var(--fill-color);\n",
              "      border-top-color: var(--fill-color);\n",
              "      border-right-color: var(--fill-color);\n",
              "    }\n",
              "    40% {\n",
              "      border-color: transparent;\n",
              "      border-right-color: var(--fill-color);\n",
              "      border-top-color: var(--fill-color);\n",
              "    }\n",
              "    60% {\n",
              "      border-color: transparent;\n",
              "      border-right-color: var(--fill-color);\n",
              "    }\n",
              "    80% {\n",
              "      border-color: transparent;\n",
              "      border-right-color: var(--fill-color);\n",
              "      border-bottom-color: var(--fill-color);\n",
              "    }\n",
              "    90% {\n",
              "      border-color: transparent;\n",
              "      border-bottom-color: var(--fill-color);\n",
              "    }\n",
              "  }\n",
              "</style>\n",
              "\n",
              "  <script>\n",
              "    async function quickchart(key) {\n",
              "      const quickchartButtonEl =\n",
              "        document.querySelector('#' + key + ' button');\n",
              "      quickchartButtonEl.disabled = true;  // To prevent multiple clicks.\n",
              "      quickchartButtonEl.classList.add('colab-df-spinner');\n",
              "      try {\n",
              "        const charts = await google.colab.kernel.invokeFunction(\n",
              "            'suggestCharts', [key], {});\n",
              "      } catch (error) {\n",
              "        console.error('Error during call to suggestCharts:', error);\n",
              "      }\n",
              "      quickchartButtonEl.classList.remove('colab-df-spinner');\n",
              "      quickchartButtonEl.classList.add('colab-df-quickchart-complete');\n",
              "    }\n",
              "    (() => {\n",
              "      let quickchartButtonEl =\n",
              "        document.querySelector('#df-abd0d793-69b8-41c9-9bef-6a6573c83f68 button');\n",
              "      quickchartButtonEl.style.display =\n",
              "        google.colab.kernel.accessAllowed ? 'block' : 'none';\n",
              "    })();\n",
              "  </script>\n",
              "</div>\n",
              "\n",
              "    </div>\n",
              "  </div>\n"
            ],
            "application/vnd.google.colaboratory.intrinsic+json": {
              "type": "dataframe",
              "variable_name": "df",
              "summary": "{\n  \"name\": \"df\",\n  \"rows\": 344,\n  \"fields\": [\n    {\n      \"column\": \"species\",\n      \"properties\": {\n        \"dtype\": \"category\",\n        \"num_unique_values\": 3,\n        \"samples\": [\n          \"Adelie\",\n          \"Gentoo\",\n          \"Chinstrap\"\n        ],\n        \"semantic_type\": \"\",\n        \"description\": \"\"\n      }\n    },\n    {\n      \"column\": \"island\",\n      \"properties\": {\n        \"dtype\": \"category\",\n        \"num_unique_values\": 3,\n        \"samples\": [\n          \"Torgersen\",\n          \"Biscoe\",\n          \"Dream\"\n        ],\n        \"semantic_type\": \"\",\n        \"description\": \"\"\n      }\n    },\n    {\n      \"column\": \"bill_length_mm\",\n      \"properties\": {\n        \"dtype\": \"number\",\n        \"std\": 5.4595837139265315,\n        \"min\": 32.1,\n        \"max\": 59.6,\n        \"num_unique_values\": 164,\n        \"samples\": [\n          49.4,\n          43.8,\n          43.4\n        ],\n        \"semantic_type\": \"\",\n        \"description\": \"\"\n      }\n    },\n    {\n      \"column\": \"bill_depth_mm\",\n      \"properties\": {\n        \"dtype\": \"number\",\n        \"std\": 1.9747931568167818,\n        \"min\": 13.1,\n        \"max\": 21.5,\n        \"num_unique_values\": 80,\n        \"samples\": [\n          16.9,\n          18.7,\n          18.6\n        ],\n        \"semantic_type\": \"\",\n        \"description\": \"\"\n      }\n    },\n    {\n      \"column\": \"flipper_length_mm\",\n      \"properties\": {\n        \"dtype\": \"number\",\n        \"std\": 14.061713679356888,\n        \"min\": 172.0,\n        \"max\": 231.0,\n        \"num_unique_values\": 55,\n        \"samples\": [\n          201.0,\n          180.0,\n          211.0\n        ],\n        \"semantic_type\": \"\",\n        \"description\": \"\"\n      }\n    },\n    {\n      \"column\": \"body_mass_g\",\n      \"properties\": {\n        \"dtype\": \"number\",\n        \"std\": 801.9545356980958,\n        \"min\": 2700.0,\n        \"max\": 6300.0,\n        \"num_unique_values\": 94,\n        \"samples\": [\n          4350.0,\n          4150.0,\n          5700.0\n        ],\n        \"semantic_type\": \"\",\n        \"description\": \"\"\n      }\n    },\n    {\n      \"column\": \"sex\",\n      \"properties\": {\n        \"dtype\": \"category\",\n        \"num_unique_values\": 2,\n        \"samples\": [\n          \"female\",\n          \"male\"\n        ],\n        \"semantic_type\": \"\",\n        \"description\": \"\"\n      }\n    },\n    {\n      \"column\": \"year\",\n      \"properties\": {\n        \"dtype\": \"number\",\n        \"std\": 0,\n        \"min\": 2007,\n        \"max\": 2009,\n        \"num_unique_values\": 3,\n        \"samples\": [\n          2007,\n          2008\n        ],\n        \"semantic_type\": \"\",\n        \"description\": \"\"\n      }\n    }\n  ]\n}"
            }
          },
          "metadata": {},
          "execution_count": 2
        }
      ]
    },
    {
      "cell_type": "markdown",
      "source": [
        "# 1. Simple Logistic Regression"
      ],
      "metadata": {
        "id": "-m_AXV3_UG3S"
      }
    },
    {
      "cell_type": "code",
      "source": [
        "df.isnull().sum()"
      ],
      "metadata": {
        "colab": {
          "base_uri": "https://localhost:8080/",
          "height": 335
        },
        "id": "yLmgvABoR9dL",
        "outputId": "6fad40b0-5dcf-4cdd-ff42-965d01195b0c"
      },
      "execution_count": 3,
      "outputs": [
        {
          "output_type": "execute_result",
          "data": {
            "text/plain": [
              "species               0\n",
              "island                0\n",
              "bill_length_mm        2\n",
              "bill_depth_mm         2\n",
              "flipper_length_mm     2\n",
              "body_mass_g           2\n",
              "sex                  11\n",
              "year                  0\n",
              "dtype: int64"
            ],
            "text/html": [
              "<div>\n",
              "<style scoped>\n",
              "    .dataframe tbody tr th:only-of-type {\n",
              "        vertical-align: middle;\n",
              "    }\n",
              "\n",
              "    .dataframe tbody tr th {\n",
              "        vertical-align: top;\n",
              "    }\n",
              "\n",
              "    .dataframe thead th {\n",
              "        text-align: right;\n",
              "    }\n",
              "</style>\n",
              "<table border=\"1\" class=\"dataframe\">\n",
              "  <thead>\n",
              "    <tr style=\"text-align: right;\">\n",
              "      <th></th>\n",
              "      <th>0</th>\n",
              "    </tr>\n",
              "  </thead>\n",
              "  <tbody>\n",
              "    <tr>\n",
              "      <th>species</th>\n",
              "      <td>0</td>\n",
              "    </tr>\n",
              "    <tr>\n",
              "      <th>island</th>\n",
              "      <td>0</td>\n",
              "    </tr>\n",
              "    <tr>\n",
              "      <th>bill_length_mm</th>\n",
              "      <td>2</td>\n",
              "    </tr>\n",
              "    <tr>\n",
              "      <th>bill_depth_mm</th>\n",
              "      <td>2</td>\n",
              "    </tr>\n",
              "    <tr>\n",
              "      <th>flipper_length_mm</th>\n",
              "      <td>2</td>\n",
              "    </tr>\n",
              "    <tr>\n",
              "      <th>body_mass_g</th>\n",
              "      <td>2</td>\n",
              "    </tr>\n",
              "    <tr>\n",
              "      <th>sex</th>\n",
              "      <td>11</td>\n",
              "    </tr>\n",
              "    <tr>\n",
              "      <th>year</th>\n",
              "      <td>0</td>\n",
              "    </tr>\n",
              "  </tbody>\n",
              "</table>\n",
              "</div><br><label><b>dtype:</b> int64</label>"
            ]
          },
          "metadata": {},
          "execution_count": 3
        }
      ]
    },
    {
      "cell_type": "code",
      "source": [
        "df[\"biscoe\"] = df[\"island\"] == \"Biscoe\"\n",
        "df[\"biscoe\"] = df[\"biscoe\"].astype(\"int64\")\n",
        "df2 = df.dropna(subset = [\"biscoe\", \"bill_depth_mm\"])\n",
        "df2.head()"
      ],
      "metadata": {
        "colab": {
          "base_uri": "https://localhost:8080/",
          "height": 206
        },
        "id": "BzQ0x5VZUNDe",
        "outputId": "e343fe42-0f06-4f7a-88d8-702c26da713e"
      },
      "execution_count": 4,
      "outputs": [
        {
          "output_type": "execute_result",
          "data": {
            "text/plain": [
              "  species     island  bill_length_mm  bill_depth_mm  flipper_length_mm  \\\n",
              "0  Adelie  Torgersen            39.1           18.7              181.0   \n",
              "1  Adelie  Torgersen            39.5           17.4              186.0   \n",
              "2  Adelie  Torgersen            40.3           18.0              195.0   \n",
              "4  Adelie  Torgersen            36.7           19.3              193.0   \n",
              "5  Adelie  Torgersen            39.3           20.6              190.0   \n",
              "\n",
              "   body_mass_g     sex  year  biscoe  \n",
              "0       3750.0    male  2007       0  \n",
              "1       3800.0  female  2007       0  \n",
              "2       3250.0  female  2007       0  \n",
              "4       3450.0  female  2007       0  \n",
              "5       3650.0    male  2007       0  "
            ],
            "text/html": [
              "\n",
              "  <div id=\"df-bcda0e5f-3638-488e-90f7-5b009db2ce6c\" class=\"colab-df-container\">\n",
              "    <div>\n",
              "<style scoped>\n",
              "    .dataframe tbody tr th:only-of-type {\n",
              "        vertical-align: middle;\n",
              "    }\n",
              "\n",
              "    .dataframe tbody tr th {\n",
              "        vertical-align: top;\n",
              "    }\n",
              "\n",
              "    .dataframe thead th {\n",
              "        text-align: right;\n",
              "    }\n",
              "</style>\n",
              "<table border=\"1\" class=\"dataframe\">\n",
              "  <thead>\n",
              "    <tr style=\"text-align: right;\">\n",
              "      <th></th>\n",
              "      <th>species</th>\n",
              "      <th>island</th>\n",
              "      <th>bill_length_mm</th>\n",
              "      <th>bill_depth_mm</th>\n",
              "      <th>flipper_length_mm</th>\n",
              "      <th>body_mass_g</th>\n",
              "      <th>sex</th>\n",
              "      <th>year</th>\n",
              "      <th>biscoe</th>\n",
              "    </tr>\n",
              "  </thead>\n",
              "  <tbody>\n",
              "    <tr>\n",
              "      <th>0</th>\n",
              "      <td>Adelie</td>\n",
              "      <td>Torgersen</td>\n",
              "      <td>39.1</td>\n",
              "      <td>18.7</td>\n",
              "      <td>181.0</td>\n",
              "      <td>3750.0</td>\n",
              "      <td>male</td>\n",
              "      <td>2007</td>\n",
              "      <td>0</td>\n",
              "    </tr>\n",
              "    <tr>\n",
              "      <th>1</th>\n",
              "      <td>Adelie</td>\n",
              "      <td>Torgersen</td>\n",
              "      <td>39.5</td>\n",
              "      <td>17.4</td>\n",
              "      <td>186.0</td>\n",
              "      <td>3800.0</td>\n",
              "      <td>female</td>\n",
              "      <td>2007</td>\n",
              "      <td>0</td>\n",
              "    </tr>\n",
              "    <tr>\n",
              "      <th>2</th>\n",
              "      <td>Adelie</td>\n",
              "      <td>Torgersen</td>\n",
              "      <td>40.3</td>\n",
              "      <td>18.0</td>\n",
              "      <td>195.0</td>\n",
              "      <td>3250.0</td>\n",
              "      <td>female</td>\n",
              "      <td>2007</td>\n",
              "      <td>0</td>\n",
              "    </tr>\n",
              "    <tr>\n",
              "      <th>4</th>\n",
              "      <td>Adelie</td>\n",
              "      <td>Torgersen</td>\n",
              "      <td>36.7</td>\n",
              "      <td>19.3</td>\n",
              "      <td>193.0</td>\n",
              "      <td>3450.0</td>\n",
              "      <td>female</td>\n",
              "      <td>2007</td>\n",
              "      <td>0</td>\n",
              "    </tr>\n",
              "    <tr>\n",
              "      <th>5</th>\n",
              "      <td>Adelie</td>\n",
              "      <td>Torgersen</td>\n",
              "      <td>39.3</td>\n",
              "      <td>20.6</td>\n",
              "      <td>190.0</td>\n",
              "      <td>3650.0</td>\n",
              "      <td>male</td>\n",
              "      <td>2007</td>\n",
              "      <td>0</td>\n",
              "    </tr>\n",
              "  </tbody>\n",
              "</table>\n",
              "</div>\n",
              "    <div class=\"colab-df-buttons\">\n",
              "\n",
              "  <div class=\"colab-df-container\">\n",
              "    <button class=\"colab-df-convert\" onclick=\"convertToInteractive('df-bcda0e5f-3638-488e-90f7-5b009db2ce6c')\"\n",
              "            title=\"Convert this dataframe to an interactive table.\"\n",
              "            style=\"display:none;\">\n",
              "\n",
              "  <svg xmlns=\"http://www.w3.org/2000/svg\" height=\"24px\" viewBox=\"0 -960 960 960\">\n",
              "    <path d=\"M120-120v-720h720v720H120Zm60-500h600v-160H180v160Zm220 220h160v-160H400v160Zm0 220h160v-160H400v160ZM180-400h160v-160H180v160Zm440 0h160v-160H620v160ZM180-180h160v-160H180v160Zm440 0h160v-160H620v160Z\"/>\n",
              "  </svg>\n",
              "    </button>\n",
              "\n",
              "  <style>\n",
              "    .colab-df-container {\n",
              "      display:flex;\n",
              "      gap: 12px;\n",
              "    }\n",
              "\n",
              "    .colab-df-convert {\n",
              "      background-color: #E8F0FE;\n",
              "      border: none;\n",
              "      border-radius: 50%;\n",
              "      cursor: pointer;\n",
              "      display: none;\n",
              "      fill: #1967D2;\n",
              "      height: 32px;\n",
              "      padding: 0 0 0 0;\n",
              "      width: 32px;\n",
              "    }\n",
              "\n",
              "    .colab-df-convert:hover {\n",
              "      background-color: #E2EBFA;\n",
              "      box-shadow: 0px 1px 2px rgba(60, 64, 67, 0.3), 0px 1px 3px 1px rgba(60, 64, 67, 0.15);\n",
              "      fill: #174EA6;\n",
              "    }\n",
              "\n",
              "    .colab-df-buttons div {\n",
              "      margin-bottom: 4px;\n",
              "    }\n",
              "\n",
              "    [theme=dark] .colab-df-convert {\n",
              "      background-color: #3B4455;\n",
              "      fill: #D2E3FC;\n",
              "    }\n",
              "\n",
              "    [theme=dark] .colab-df-convert:hover {\n",
              "      background-color: #434B5C;\n",
              "      box-shadow: 0px 1px 3px 1px rgba(0, 0, 0, 0.15);\n",
              "      filter: drop-shadow(0px 1px 2px rgba(0, 0, 0, 0.3));\n",
              "      fill: #FFFFFF;\n",
              "    }\n",
              "  </style>\n",
              "\n",
              "    <script>\n",
              "      const buttonEl =\n",
              "        document.querySelector('#df-bcda0e5f-3638-488e-90f7-5b009db2ce6c button.colab-df-convert');\n",
              "      buttonEl.style.display =\n",
              "        google.colab.kernel.accessAllowed ? 'block' : 'none';\n",
              "\n",
              "      async function convertToInteractive(key) {\n",
              "        const element = document.querySelector('#df-bcda0e5f-3638-488e-90f7-5b009db2ce6c');\n",
              "        const dataTable =\n",
              "          await google.colab.kernel.invokeFunction('convertToInteractive',\n",
              "                                                    [key], {});\n",
              "        if (!dataTable) return;\n",
              "\n",
              "        const docLinkHtml = 'Like what you see? Visit the ' +\n",
              "          '<a target=\"_blank\" href=https://colab.research.google.com/notebooks/data_table.ipynb>data table notebook</a>'\n",
              "          + ' to learn more about interactive tables.';\n",
              "        element.innerHTML = '';\n",
              "        dataTable['output_type'] = 'display_data';\n",
              "        await google.colab.output.renderOutput(dataTable, element);\n",
              "        const docLink = document.createElement('div');\n",
              "        docLink.innerHTML = docLinkHtml;\n",
              "        element.appendChild(docLink);\n",
              "      }\n",
              "    </script>\n",
              "  </div>\n",
              "\n",
              "\n",
              "<div id=\"df-b0cd6b38-eb24-4802-9915-6f2579ac3d17\">\n",
              "  <button class=\"colab-df-quickchart\" onclick=\"quickchart('df-b0cd6b38-eb24-4802-9915-6f2579ac3d17')\"\n",
              "            title=\"Suggest charts\"\n",
              "            style=\"display:none;\">\n",
              "\n",
              "<svg xmlns=\"http://www.w3.org/2000/svg\" height=\"24px\"viewBox=\"0 0 24 24\"\n",
              "     width=\"24px\">\n",
              "    <g>\n",
              "        <path d=\"M19 3H5c-1.1 0-2 .9-2 2v14c0 1.1.9 2 2 2h14c1.1 0 2-.9 2-2V5c0-1.1-.9-2-2-2zM9 17H7v-7h2v7zm4 0h-2V7h2v10zm4 0h-2v-4h2v4z\"/>\n",
              "    </g>\n",
              "</svg>\n",
              "  </button>\n",
              "\n",
              "<style>\n",
              "  .colab-df-quickchart {\n",
              "      --bg-color: #E8F0FE;\n",
              "      --fill-color: #1967D2;\n",
              "      --hover-bg-color: #E2EBFA;\n",
              "      --hover-fill-color: #174EA6;\n",
              "      --disabled-fill-color: #AAA;\n",
              "      --disabled-bg-color: #DDD;\n",
              "  }\n",
              "\n",
              "  [theme=dark] .colab-df-quickchart {\n",
              "      --bg-color: #3B4455;\n",
              "      --fill-color: #D2E3FC;\n",
              "      --hover-bg-color: #434B5C;\n",
              "      --hover-fill-color: #FFFFFF;\n",
              "      --disabled-bg-color: #3B4455;\n",
              "      --disabled-fill-color: #666;\n",
              "  }\n",
              "\n",
              "  .colab-df-quickchart {\n",
              "    background-color: var(--bg-color);\n",
              "    border: none;\n",
              "    border-radius: 50%;\n",
              "    cursor: pointer;\n",
              "    display: none;\n",
              "    fill: var(--fill-color);\n",
              "    height: 32px;\n",
              "    padding: 0;\n",
              "    width: 32px;\n",
              "  }\n",
              "\n",
              "  .colab-df-quickchart:hover {\n",
              "    background-color: var(--hover-bg-color);\n",
              "    box-shadow: 0 1px 2px rgba(60, 64, 67, 0.3), 0 1px 3px 1px rgba(60, 64, 67, 0.15);\n",
              "    fill: var(--button-hover-fill-color);\n",
              "  }\n",
              "\n",
              "  .colab-df-quickchart-complete:disabled,\n",
              "  .colab-df-quickchart-complete:disabled:hover {\n",
              "    background-color: var(--disabled-bg-color);\n",
              "    fill: var(--disabled-fill-color);\n",
              "    box-shadow: none;\n",
              "  }\n",
              "\n",
              "  .colab-df-spinner {\n",
              "    border: 2px solid var(--fill-color);\n",
              "    border-color: transparent;\n",
              "    border-bottom-color: var(--fill-color);\n",
              "    animation:\n",
              "      spin 1s steps(1) infinite;\n",
              "  }\n",
              "\n",
              "  @keyframes spin {\n",
              "    0% {\n",
              "      border-color: transparent;\n",
              "      border-bottom-color: var(--fill-color);\n",
              "      border-left-color: var(--fill-color);\n",
              "    }\n",
              "    20% {\n",
              "      border-color: transparent;\n",
              "      border-left-color: var(--fill-color);\n",
              "      border-top-color: var(--fill-color);\n",
              "    }\n",
              "    30% {\n",
              "      border-color: transparent;\n",
              "      border-left-color: var(--fill-color);\n",
              "      border-top-color: var(--fill-color);\n",
              "      border-right-color: var(--fill-color);\n",
              "    }\n",
              "    40% {\n",
              "      border-color: transparent;\n",
              "      border-right-color: var(--fill-color);\n",
              "      border-top-color: var(--fill-color);\n",
              "    }\n",
              "    60% {\n",
              "      border-color: transparent;\n",
              "      border-right-color: var(--fill-color);\n",
              "    }\n",
              "    80% {\n",
              "      border-color: transparent;\n",
              "      border-right-color: var(--fill-color);\n",
              "      border-bottom-color: var(--fill-color);\n",
              "    }\n",
              "    90% {\n",
              "      border-color: transparent;\n",
              "      border-bottom-color: var(--fill-color);\n",
              "    }\n",
              "  }\n",
              "</style>\n",
              "\n",
              "  <script>\n",
              "    async function quickchart(key) {\n",
              "      const quickchartButtonEl =\n",
              "        document.querySelector('#' + key + ' button');\n",
              "      quickchartButtonEl.disabled = true;  // To prevent multiple clicks.\n",
              "      quickchartButtonEl.classList.add('colab-df-spinner');\n",
              "      try {\n",
              "        const charts = await google.colab.kernel.invokeFunction(\n",
              "            'suggestCharts', [key], {});\n",
              "      } catch (error) {\n",
              "        console.error('Error during call to suggestCharts:', error);\n",
              "      }\n",
              "      quickchartButtonEl.classList.remove('colab-df-spinner');\n",
              "      quickchartButtonEl.classList.add('colab-df-quickchart-complete');\n",
              "    }\n",
              "    (() => {\n",
              "      let quickchartButtonEl =\n",
              "        document.querySelector('#df-b0cd6b38-eb24-4802-9915-6f2579ac3d17 button');\n",
              "      quickchartButtonEl.style.display =\n",
              "        google.colab.kernel.accessAllowed ? 'block' : 'none';\n",
              "    })();\n",
              "  </script>\n",
              "</div>\n",
              "\n",
              "    </div>\n",
              "  </div>\n"
            ],
            "application/vnd.google.colaboratory.intrinsic+json": {
              "type": "dataframe",
              "variable_name": "df2",
              "summary": "{\n  \"name\": \"df2\",\n  \"rows\": 342,\n  \"fields\": [\n    {\n      \"column\": \"species\",\n      \"properties\": {\n        \"dtype\": \"category\",\n        \"num_unique_values\": 3,\n        \"samples\": [\n          \"Adelie\",\n          \"Gentoo\",\n          \"Chinstrap\"\n        ],\n        \"semantic_type\": \"\",\n        \"description\": \"\"\n      }\n    },\n    {\n      \"column\": \"island\",\n      \"properties\": {\n        \"dtype\": \"category\",\n        \"num_unique_values\": 3,\n        \"samples\": [\n          \"Torgersen\",\n          \"Biscoe\",\n          \"Dream\"\n        ],\n        \"semantic_type\": \"\",\n        \"description\": \"\"\n      }\n    },\n    {\n      \"column\": \"bill_length_mm\",\n      \"properties\": {\n        \"dtype\": \"number\",\n        \"std\": 5.4595837139265315,\n        \"min\": 32.1,\n        \"max\": 59.6,\n        \"num_unique_values\": 164,\n        \"samples\": [\n          49.4,\n          43.8,\n          43.4\n        ],\n        \"semantic_type\": \"\",\n        \"description\": \"\"\n      }\n    },\n    {\n      \"column\": \"bill_depth_mm\",\n      \"properties\": {\n        \"dtype\": \"number\",\n        \"std\": 1.9747931568167818,\n        \"min\": 13.1,\n        \"max\": 21.5,\n        \"num_unique_values\": 80,\n        \"samples\": [\n          16.9,\n          18.7,\n          18.6\n        ],\n        \"semantic_type\": \"\",\n        \"description\": \"\"\n      }\n    },\n    {\n      \"column\": \"flipper_length_mm\",\n      \"properties\": {\n        \"dtype\": \"number\",\n        \"std\": 14.061713679356888,\n        \"min\": 172.0,\n        \"max\": 231.0,\n        \"num_unique_values\": 55,\n        \"samples\": [\n          201.0,\n          180.0,\n          211.0\n        ],\n        \"semantic_type\": \"\",\n        \"description\": \"\"\n      }\n    },\n    {\n      \"column\": \"body_mass_g\",\n      \"properties\": {\n        \"dtype\": \"number\",\n        \"std\": 801.9545356980958,\n        \"min\": 2700.0,\n        \"max\": 6300.0,\n        \"num_unique_values\": 94,\n        \"samples\": [\n          4350.0,\n          4150.0,\n          5700.0\n        ],\n        \"semantic_type\": \"\",\n        \"description\": \"\"\n      }\n    },\n    {\n      \"column\": \"sex\",\n      \"properties\": {\n        \"dtype\": \"category\",\n        \"num_unique_values\": 2,\n        \"samples\": [\n          \"female\",\n          \"male\"\n        ],\n        \"semantic_type\": \"\",\n        \"description\": \"\"\n      }\n    },\n    {\n      \"column\": \"year\",\n      \"properties\": {\n        \"dtype\": \"number\",\n        \"std\": 0,\n        \"min\": 2007,\n        \"max\": 2009,\n        \"num_unique_values\": 3,\n        \"samples\": [\n          2007,\n          2008\n        ],\n        \"semantic_type\": \"\",\n        \"description\": \"\"\n      }\n    },\n    {\n      \"column\": \"biscoe\",\n      \"properties\": {\n        \"dtype\": \"number\",\n        \"std\": 0,\n        \"min\": 0,\n        \"max\": 1,\n        \"num_unique_values\": 2,\n        \"samples\": [\n          1,\n          0\n        ],\n        \"semantic_type\": \"\",\n        \"description\": \"\"\n      }\n    }\n  ]\n}"
            }
          },
          "metadata": {},
          "execution_count": 4
        }
      ]
    },
    {
      "cell_type": "code",
      "source": [
        "y, X = pt.dmatrices(\"biscoe ~ bill_depth_mm\", df2)\n",
        "y = np.reshape(y, -1)"
      ],
      "metadata": {
        "id": "_WgF9JkyrwSB"
      },
      "execution_count": 5,
      "outputs": []
    },
    {
      "cell_type": "code",
      "source": [
        "X_train, X_test, y_train, y_test = train_test_split(X, y, test_size=0.2, random_state=608)"
      ],
      "metadata": {
        "id": "pzgvZB4zryGG"
      },
      "execution_count": 6,
      "outputs": []
    },
    {
      "cell_type": "markdown",
      "source": [
        "## a. Fit logistic regression"
      ],
      "metadata": {
        "id": "lQ8JLybtT0FG"
      }
    },
    {
      "cell_type": "code",
      "source": [
        "fit = LogisticRegression(fit_intercept=False, penalty=None).fit(X_train, y_train)\n",
        "fit.coef_"
      ],
      "metadata": {
        "colab": {
          "base_uri": "https://localhost:8080/"
        },
        "id": "MmVrxGjbPZRw",
        "outputId": "65293a48-6d1a-49f9-f4b2-b2839aedfb1e"
      },
      "execution_count": 7,
      "outputs": [
        {
          "output_type": "execute_result",
          "data": {
            "text/plain": [
              "array([[17.61710677, -1.0269193 ]])"
            ]
          },
          "metadata": {},
          "execution_count": 7
        }
      ]
    },
    {
      "cell_type": "markdown",
      "source": [
        "## b. Predict probability for penguin having bill_depth of 17.1 mm"
      ],
      "metadata": {
        "id": "IQwhg9g5YxGA"
      }
    },
    {
      "cell_type": "code",
      "source": [
        "beta = fit.coef_[0]\n",
        "\n",
        "bill_depth = 17.1\n",
        "lm = beta[0] + beta[1] * bill_depth\n",
        "p1 = 1 / (1 + np.exp(-lm))\n",
        "print(f\"Predicted probability for bill_depth_mm {bill_depth} = {p1:.4f}\")"
      ],
      "metadata": {
        "colab": {
          "base_uri": "https://localhost:8080/"
        },
        "id": "4K0OSy65Um8d",
        "outputId": "e597f6e2-f7e2-4530-e94e-7f329bbb49b4"
      },
      "execution_count": 8,
      "outputs": [
        {
          "output_type": "stream",
          "name": "stdout",
          "text": [
            "Predicted probability for bill_depth_mm 17.1 = 0.5142\n"
          ]
        }
      ]
    },
    {
      "cell_type": "markdown",
      "source": [
        "The model predicts a 51.42% probability that a penguin with a bill depth of 17.1 mm is from the island Biscoe."
      ],
      "metadata": {
        "id": "0S1kiF-sbOoQ"
      }
    },
    {
      "cell_type": "markdown",
      "source": [
        "## c. Classify a penguin with a bill depth of 17.1 millimeters as from the island Biscoe or not"
      ],
      "metadata": {
        "id": "HakPooUZcMw6"
      }
    },
    {
      "cell_type": "code",
      "source": [
        "classification = \"Biscoe\" if p1 >= 0.5 else \"Not Biscoe\"\n",
        "print(f\"The penguin is classified as: {classification}\")"
      ],
      "metadata": {
        "colab": {
          "base_uri": "https://localhost:8080/"
        },
        "id": "l1dqi--3ZhmB",
        "outputId": "2e70ec6e-67d4-480d-bfdf-a1047278bd4b"
      },
      "execution_count": 9,
      "outputs": [
        {
          "output_type": "stream",
          "name": "stdout",
          "text": [
            "The penguin is classified as: Biscoe\n"
          ]
        }
      ]
    },
    {
      "cell_type": "markdown",
      "source": [
        "The logistic regression model predicts a probability (p1) of the penguin being from Biscoe based on its bill depth.\n",
        "\n",
        "In this case, the model predicted p1 as greater than or equal to 0.5, meaning the penguin is more likely to be from Biscoe than not.\n",
        "\n",
        "Therefore, the penguin is classified as Biscoe using the threshold of 0.5.\n"
      ],
      "metadata": {
        "id": "B_5r9Snbdkqv"
      }
    },
    {
      "cell_type": "markdown",
      "source": [
        "## d. If your fledgling penguin grew just 1 millimeter in bill depth, what is the expected change in probability for the penguin being from the island Biscoe?"
      ],
      "metadata": {
        "id": "v1I2VwFNeVrq"
      }
    },
    {
      "cell_type": "code",
      "source": [
        "beta = fit.coef_[0]\n",
        "\n",
        "bill_depth = 18.1\n",
        "lm = beta[0] + beta[1] * bill_depth\n",
        "p2 = 1 / (1 + np.exp(-lm))\n",
        "print(\"p2: \", p2)\n",
        "prob_change = p2 - p1\n",
        "print(\"prob_change: \", prob_change)\n",
        "print(f\"Change in probability for a 1 mm increase: {prob_change:.4f}\")"
      ],
      "metadata": {
        "colab": {
          "base_uri": "https://localhost:8080/"
        },
        "id": "6vrxNMkjeUXj",
        "outputId": "4549e0bb-253a-43de-9bc0-77193faba0f1"
      },
      "execution_count": 10,
      "outputs": [
        {
          "output_type": "stream",
          "name": "stdout",
          "text": [
            "p2:  0.27485409478827416\n",
            "prob_change:  -0.23933879281297277\n",
            "Change in probability for a 1 mm increase: -0.2393\n"
          ]
        }
      ]
    },
    {
      "cell_type": "markdown",
      "source": [
        "The change in probability is -0.2393, meaning that as the bill depth increases by 1 mm (from 17.1 mm to 18.1 mm), the probability of the penguin being from the island Biscoe decreases by 23.93%."
      ],
      "metadata": {
        "id": "GTmFjS6JfZMb"
      }
    },
    {
      "cell_type": "markdown",
      "source": [
        "## e. Calculate the confusion matrix"
      ],
      "metadata": {
        "id": "PnYiu2JJr-aF"
      }
    },
    {
      "cell_type": "code",
      "source": [
        "y_pred = fit.predict(X_test)\n",
        "\n",
        "conf_matrix = confusion_matrix(y_test, y_pred, normalize = 'all')\n",
        "\n",
        "simple_Log_accuracy = accuracy_score(y_test, y_pred)\n",
        "\n",
        "print(f\"Confusion Matrix:\\n{conf_matrix}\")\n",
        "print(f\"Model Accuracy: {simple_Log_accuracy:.4%}\")"
      ],
      "metadata": {
        "colab": {
          "base_uri": "https://localhost:8080/"
        },
        "id": "VA_u7PlketTj",
        "outputId": "85af9850-dad7-481a-ccc5-384584adf38b"
      },
      "execution_count": 11,
      "outputs": [
        {
          "output_type": "stream",
          "name": "stdout",
          "text": [
            "Confusion Matrix:\n",
            "[[0.42028986 0.13043478]\n",
            " [0.13043478 0.31884058]]\n",
            "Model Accuracy: 73.9130%\n"
          ]
        }
      ]
    },
    {
      "cell_type": "markdown",
      "source": [
        "**True Negatives (TN): 0.4203 (42.03%)**\n",
        "\n",
        "Correctly predicted as \"Not Biscoe.\"\n",
        "\n",
        "**False Positives (FP): 0.1304 (13.04%)**\n",
        "\n",
        "Incorrectly predicted as \"Biscoe\" when it was actually \"Not Biscoe.\"\n",
        "\n",
        "**False Negatives (FN): 0.1304 (13.04%)**\n",
        "\n",
        "Incorrectly predicted as \"Not Biscoe\" when it was actually \"Biscoe.\"\n",
        "\n",
        "**True Positives (TP): 0.3188 (31.88%)**\n",
        "\n",
        "Correctly predicted as \"Biscoe.\"\n",
        "\n",
        "The overall accuracy of the model is 73.91%, meaning it correctly classified approximately 74% of the penguins in the test set."
      ],
      "metadata": {
        "id": "KxwbFs0QjBWd"
      }
    },
    {
      "cell_type": "markdown",
      "source": [
        "# 2. Penalized Logistic Regression"
      ],
      "metadata": {
        "id": "xUk88ZtUjwB8"
      }
    },
    {
      "cell_type": "markdown",
      "source": [
        "## a. Fit Penalized regression"
      ],
      "metadata": {
        "id": "l3IMYBRgj3YN"
      }
    },
    {
      "cell_type": "code",
      "source": [
        "y, X = pt.dmatrices(\"biscoe ~ bill_depth_mm * bill_length_mm * body_mass_g + I(bill_depth_mm ** 2)\", df2)\n",
        "y = np.reshape(y, -1)\n",
        "\n",
        "X_train, X_test, y_train, y_test = train_test_split(X, y, test_size=0.2, random_state=608)\n",
        "\n",
        "scaler = StandardScaler()\n",
        "X_train_scaled = scaler.fit_transform(X_train)\n",
        "X_test_scaled = scaler.transform(X_test)\n",
        "\n",
        "lambdas = np.logspace(0, 5, 101)\n",
        "approx_accuracy = np.zeros_like(lambdas)\n",
        "approx_matthews = np.zeros_like(lambdas)\n",
        "\n",
        "for li, l in enumerate(lambdas):\n",
        "    cv_approx = cross_val_score(\n",
        "        LogisticRegression(C=1 / l, max_iter=5000),\n",
        "        X_train_scaled, y_train, cv=5\n",
        "    )\n",
        "    cv_matthews = cross_val_score(\n",
        "        LogisticRegression(C=1 / l, max_iter=5000),\n",
        "        X_train_scaled, y_train, scoring=\"matthews_corrcoef\", cv=5\n",
        "    )\n",
        "    approx_accuracy[li] = np.mean(cv_approx)\n",
        "    approx_matthews[li] = np.mean(cv_matthews)\n",
        "\n",
        "plt.plot(lambdas, approx_accuracy, label=\"Accuracy\")\n",
        "plt.plot(lambdas, approx_matthews, label=\"Matthews\")\n",
        "plt.xscale(\"log\")\n",
        "plt.ylabel(\"Metric Score\")\n",
        "plt.xlabel(\"$\\\\lambda$\")\n",
        "plt.legend()\n",
        "plt.title(\"Performance vs Regularization Strength\")\n",
        "plt.show()\n",
        "\n",
        "best_lambda_index = np.argmax(approx_accuracy)\n",
        "best_lambda = lambdas[best_lambda_index]\n",
        "best_C = 1 / best_lambda\n",
        "\n",
        "final_model = LogisticRegression(C=best_C, max_iter=5000).fit(X_train_scaled, y_train)\n"
      ],
      "metadata": {
        "colab": {
          "base_uri": "https://localhost:8080/",
          "height": 477
        },
        "id": "t9kThwoUNyEL",
        "outputId": "933a468d-4f00-46ae-e2bb-d1ce6ba19c95"
      },
      "execution_count": 12,
      "outputs": [
        {
          "output_type": "display_data",
          "data": {
            "text/plain": [
              "<Figure size 640x480 with 1 Axes>"
            ],
            "image/png": "[encoded data removed]"
          },
          "metadata": {}
        }
      ]
    },
    {
      "cell_type": "markdown",
      "source": [
        "## b. Prediction for a penguin with a bill depth of 17.1 millimeters and bill length of 45 millimeters."
      ],
      "metadata": {
        "id": "RneJHqZJ8Bxs"
      }
    },
    {
      "cell_type": "code",
      "source": [
        "input_data = pd.DataFrame({\"bill_depth_mm\": [17.1], \"bill_length_mm\": [45], \"body_mass_g\": [3750]})\n",
        "\n",
        "X_input = pt.dmatrix(\"bill_depth_mm * bill_length_mm * body_mass_g + I(bill_depth_mm ** 2)\", input_data)\n",
        "X_input_scaled = scaler.transform(X_input)\n",
        "\n",
        "prob = final_model.predict_proba(X_input_scaled)[0, 1]\n",
        "classification = \"Biscoe\" if prob >= 0.5 else \"Not Biscoe\"\n",
        "\n",
        "print(f\"Predicted Probability: {prob:.4f}\")\n",
        "print(f\"Classification: {classification}\")"
      ],
      "metadata": {
        "colab": {
          "base_uri": "https://localhost:8080/"
        },
        "id": "hTGI-KdK8LGS",
        "outputId": "687e0d12-4251-4818-84f2-6b5d152474a1"
      },
      "execution_count": 13,
      "outputs": [
        {
          "output_type": "stream",
          "name": "stdout",
          "text": [
            "Predicted Probability: 0.3682\n",
            "Classification: Not Biscoe\n"
          ]
        }
      ]
    },
    {
      "cell_type": "markdown",
      "source": [
        "For a penguin with a bill depth of 17.1 mm and a bill length of 45 mm, the model predicts a probability of 36.82% that the penguin is not from the island Biscoe.\n",
        "\n",
        "Since this probability is not above the 0.5 threshold, the penguin is classified as not being from Biscoe."
      ],
      "metadata": {
        "id": "zyzwkEeY8iJn"
      }
    },
    {
      "cell_type": "markdown",
      "source": [
        "## c. Confusion matrix and accuracy"
      ],
      "metadata": {
        "id": "XOo0OLJN8vgO"
      }
    },
    {
      "cell_type": "code",
      "source": [
        "y_pred = final_model.predict(X_test_scaled)\n",
        "conf_matrix = confusion_matrix(y_test, y_pred, normalize = 'all')\n",
        "accuracy = accuracy_score(y_test, y_pred)\n",
        "\n",
        "print(f\"Best Lambda (λ): {best_lambda:.4f}\")\n",
        "print(f\"Best Penalty Parameter (C): {best_C:.4f}\")\n",
        "print(\"Confusion Matrix:\")\n",
        "print(conf_matrix)\n",
        "print(f\"Test Set Accuracy: {accuracy:.4%}\")"
      ],
      "metadata": {
        "id": "KbkdVoVc8-ny",
        "colab": {
          "base_uri": "https://localhost:8080/"
        },
        "outputId": "bc5d8da9-81b2-4b5a-93b2-9144bdeed6e2"
      },
      "execution_count": 14,
      "outputs": [
        {
          "output_type": "stream",
          "name": "stdout",
          "text": [
            "Best Lambda (λ): 25.1189\n",
            "Best Penalty Parameter (C): 0.0398\n",
            "Confusion Matrix:\n",
            "[[0.52173913 0.02898551]\n",
            " [0.17391304 0.27536232]]\n",
            "Test Set Accuracy: 79.7101%\n"
          ]
        }
      ]
    },
    {
      "cell_type": "markdown",
      "source": [
        "52.17% of the test penguins were correctly classified as Not from Biscoe (True Negatives).\n",
        "\n",
        "27.54% of the test penguins were correctly classified as From Biscoe (True Positives).\n",
        "\n",
        "2.90% of the test penguins that were actually Not from Biscoe were incorrectly classified as From Biscoe (False Positives).\n",
        "\n",
        "17.39% of the test penguins that were actually From Biscoe were incorrectly classified as Not from Biscoe (False Negatives).\n",
        "\n",
        "**Overall Accuracy:**\n",
        "The test set accuracy of 79.71% indicates that the model correctly identified the origin (Biscoe or not) of approximately 80% of the penguins."
      ],
      "metadata": {
        "id": "4oE3Anbb9ZTW"
      }
    },
    {
      "cell_type": "markdown",
      "source": [
        "## d. Simple Logistic Regression vs Penalized Logistic Regression"
      ],
      "metadata": {
        "id": "dQxdp9MV9-M5"
      }
    },
    {
      "cell_type": "code",
      "source": [
        "simple_Log_accuracy = 73.91 / 100\n",
        "penalized_log_accuracy = accuracy\n",
        "\n",
        "print(f\"Simple Model Accuracy: {simple_Log_accuracy:.4%}\")\n",
        "print(f\"Penalized Model Accuracy: {penalized_log_accuracy:.4%}\")\n",
        "\n",
        "if penalized_log_accuracy > simple_Log_accuracy:\n",
        "    print(\"The penalized logistic regression model is better based on accuracy.\")\n",
        "else:\n",
        "    print(\"The simple logistic regression model is better based on accuracy.\")\n"
      ],
      "metadata": {
        "id": "P99t6T7Z-LD8",
        "colab": {
          "base_uri": "https://localhost:8080/"
        },
        "outputId": "3c6685a1-6885-4204-f0f6-1e9f7a636ae8"
      },
      "execution_count": 15,
      "outputs": [
        {
          "output_type": "stream",
          "name": "stdout",
          "text": [
            "Simple Model Accuracy: 73.9100%\n",
            "Penalized Model Accuracy: 79.7101%\n",
            "The penalized logistic regression model is better based on accuracy.\n"
          ]
        }
      ]
    },
    {
      "cell_type": "markdown",
      "source": [
        " Based on the metric accuracy, the penalized logistic regression model performed better than the simple logistic regression model.\n",
        "\n",
        " The improvement in accuracy indicates that introducing the penalty term and interaction terms in the model has allowed it to better capture the relationship between the features and the response variable, reducing overfitting and improving generalization on the test data.\n",
        "\n",
        "\n",
        "\n",
        "\n",
        "\n",
        "\n"
      ],
      "metadata": {
        "id": "6nsObFlyAAeK"
      }
    },
    {
      "cell_type": "markdown",
      "source": [
        "# 3. Penalized Logistic Regression, take 2"
      ],
      "metadata": {
        "id": "HBvj4xzkChIq"
      }
    },
    {
      "cell_type": "code",
      "source": [
        "y, X = pt.dmatrices(\"biscoe ~ bill_depth_mm * bill_length_mm * flipper_length_mm * body_mass_g * year * sex + I(bill_depth_mm ** 2) + I(bill_length_mm ** 2)\", df2)\n",
        "y = np.reshape(y, -1)\n",
        "\n",
        "X_train, X_test, y_train, y_test = train_test_split(X, y, test_size=0.2, random_state=608)\n",
        "\n",
        "scaler = StandardScaler()\n",
        "X_train_scaled = scaler.fit_transform(X_train)\n",
        "X_test_scaled = scaler.transform(X_test)\n",
        "\n",
        "lambdas = np.logspace(0, 5, 101)\n",
        "approx_accuracy = np.zeros_like(lambdas)\n",
        "approx_matthews = np.zeros_like(lambdas)\n",
        "\n",
        "for li, l in enumerate(lambdas):\n",
        "    cv_approx = cross_val_score(\n",
        "        LogisticRegression(C=1 / l, max_iter=5000),\n",
        "        X_train_scaled, y_train, cv=5\n",
        "    )\n",
        "    cv_matthews = cross_val_score(\n",
        "        LogisticRegression(C=1 / l, max_iter=5000),\n",
        "        X_train_scaled, y_train, scoring=\"matthews_corrcoef\", cv=5\n",
        "    )\n",
        "    approx_accuracy[li] = np.mean(cv_approx)\n",
        "    approx_matthews[li] = np.mean(cv_matthews)\n",
        "\n",
        "plt.plot(lambdas, approx_accuracy, label=\"Accuracy\")\n",
        "plt.plot(lambdas, approx_matthews, label=\"Matthews\")\n",
        "plt.xscale(\"log\")\n",
        "plt.ylabel(\"Metric Score\")\n",
        "plt.xlabel(\"$\\\\lambda$\")\n",
        "plt.legend()\n",
        "plt.title(\"Performance vs Regularization Strength\")\n",
        "plt.show()\n",
        "\n",
        "best_lambda_index = np.argmax(approx_accuracy)\n",
        "best_lambda = lambdas[best_lambda_index]\n",
        "best_C = 1 / best_lambda\n",
        "\n",
        "final_model = LogisticRegression(C=best_C, max_iter=5000).fit(X_train_scaled, y_train)\n",
        "\n",
        "y_pred = final_model.predict(X_test_scaled)\n",
        "conf_matrix = confusion_matrix(y_test, y_pred, normalize = 'all')\n",
        "accuracy = accuracy_score(y_test, y_pred)\n",
        "\n",
        "print(f\"Best Lambda (λ): {best_lambda:.4f}\")\n",
        "print(f\"Best Penalty Parameter (C): {best_C:.4f}\")\n",
        "print(\"Confusion Matrix:\")\n",
        "print(conf_matrix)\n",
        "print(f\"Test Set Accuracy: {accuracy:.4%}\")\n"
      ],
      "metadata": {
        "colab": {
          "base_uri": "https://localhost:8080/",
          "height": 581
        },
        "id": "VBdxh1Gmwv1z",
        "outputId": "b135bb21-9124-410a-9209-7b218d1ee19c"
      },
      "execution_count": 16,
      "outputs": [
        {
          "output_type": "display_data",
          "data": {
            "text/plain": [
              "<Figure size 640x480 with 1 Axes>"
            ],
            "image/png": "[encoded data removed]"
          },
          "metadata": {}
        },
        {
          "output_type": "stream",
          "name": "stdout",
          "text": [
            "Best Lambda (λ): 100.0000\n",
            "Best Penalty Parameter (C): 0.0100\n",
            "Confusion Matrix:\n",
            "[[0.47761194 0.        ]\n",
            " [0.14925373 0.37313433]]\n",
            "Test Set Accuracy: 85.0746%\n"
          ]
        }
      ]
    },
    {
      "cell_type": "markdown",
      "source": [
        "The confusion matrix is normalized. The diagonal elements (0.4776 and 0.3731) represent the proportions of correctly classified instances for each class.\n",
        "\n",
        "The off-diagonal elements (0.1493 and 0.0) represent the proportions of misclassified instances.\n",
        "\n",
        "**Interpretation:**\n",
        "\n",
        "47.76% of the test samples belong to the first class and are correctly classified.\n",
        "\n",
        "37.31% of the test samples belong to the second class and are correctly classified.\n",
        "\n",
        "14.93% of the test samples were misclassified into the wrong class.\n",
        "\n",
        "**Test Set Accuracy:**\n",
        "\n",
        "The test set accuracy is 85.07%.\n",
        "\n",
        "This is a significant improvement over the previous models, indicating that incorporating multiple interaction terms and using the penalized logistic regression model with optimal regularization has enhanced the model's predictive ability.\n",
        "\n",
        "**Final Interpretation:**\n",
        "\n",
        "The penalized logistic regression model with interaction terms and optimized regularization (based on λ=100) achieves a test set accuracy of 85.07%.\n",
        "\n",
        "This performance suggests that the model generalizes well to the test data.\n",
        "\n",
        "The confusion matrix indicates good classification ability, with a relatively low proportion of misclassified samples.\n",
        "\n",
        "The chosen regularization strength strikes a balance between underfitting and overfitting, leading to improved accuracy.\n",
        "\n",
        "\n",
        "\n",
        "\n",
        "\n",
        "\n"
      ],
      "metadata": {
        "id": "wPAcDkK9yGA7"
      }
    },
    {
      "cell_type": "markdown",
      "source": [
        "# (Using Random Forest)"
      ],
      "metadata": {
        "id": "ne-07aTeP_qZ"
      }
    },
    {
      "cell_type": "code",
      "source": [
        "rf_model = RandomForestClassifier(n_estimators=100, max_depth=10, random_state = 608, bootstrap=True)\n",
        "\n",
        "rf_model.fit(X_train, y_train)\n",
        "rf_y_pred = rf_model.predict(X_test)\n",
        "\n",
        "rf_accuracy = accuracy_score(y_test, rf_y_pred)\n",
        "rf_conf_matrix = confusion_matrix(y_test, rf_y_pred, normalize = 'all')\n",
        "\n",
        "print(\"Confusion Matrix:\")\n",
        "print(rf_conf_matrix)\n",
        "print(\"Accuracy for Random Forest:\",rf_accuracy)"
      ],
      "metadata": {
        "colab": {
          "base_uri": "https://localhost:8080/"
        },
        "id": "2RGfxkLgvC4Y",
        "outputId": "b92daa9a-8c50-401b-91e9-5f2189a162d3"
      },
      "execution_count": 23,
      "outputs": [
        {
          "output_type": "stream",
          "name": "stdout",
          "text": [
            "Confusion Matrix:\n",
            "[[0.46268657 0.01492537]\n",
            " [0.13432836 0.3880597 ]]\n",
            "Accuracy for Random Forest: 0.8507462686567164\n"
          ]
        }
      ]
    },
    {
      "cell_type": "markdown",
      "source": [
        "**Key Hyperparameters in RandomForestClassifier\n",
        "n_estimators:**\n",
        "\n",
        "Determines the number of trees in the forest. More trees generally improve robustness but increase training and prediction time.\n",
        "\n",
        "**Common values:** 10–500 (depending on data size and computational resources).\n",
        "\n",
        "**max_depth:**\n",
        "\n",
        "Limits the maximum depth of each decision tree.\n",
        "\n",
        "Prevents overfitting on small datasets by controlling the tree's growth.\n",
        "\n",
        "Higher values allow more splits, capturing more details in the data (but can overfit).\n"
      ],
      "metadata": {
        "id": "t8On9n_8cHJJ"
      }
    }
  ]
}